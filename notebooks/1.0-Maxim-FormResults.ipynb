{
 "cells": [
  {
   "cell_type": "code",
   "execution_count": 1,
   "id": "9e1c593f-90b7-459a-9fa6-7c87452fa9ff",
   "metadata": {},
   "outputs": [],
   "source": [
    "import os\n",
    "import io\n",
    "import sys\n",
    "import matplotlib.pyplot as plt\n",
    "import IPython.display as ipd\n",
    "import pandas as pd\n",
    "import re\n",
    "import subprocess\n",
    "import numpy as np\n",
    "from tqdm import tqdm\n",
    "\n",
    "%load_ext autoreload\n",
    "%autoreload 2\n",
    "%matplotlib inline\n",
    "\n",
    "sys.path.append('../src')"
   ]
  },
  {
   "cell_type": "code",
   "execution_count": 46,
   "id": "b062fe36",
   "metadata": {},
   "outputs": [],
   "source": [
    "import re\n",
    "import ast\n",
    "\n",
    "logs_root = '/media/maxim/WesternDigital/RAMAS2024/sc_meld/xlstm/'\n",
    "\n",
    "def parse_config(str_training_config):\n",
    "    str_training_config = re.sub(' +', ' ', str_training_config.replace('<class ', '').replace('>', ''))\n",
    "    training_config = ast.literal_eval(str_training_config)\n",
    "    return (training_config['FEATURE_EXTRACTOR']['WIN_MAX_LENGTH'], training_config['FEATURE_EXTRACTOR']['WIN_SHIFT'], \n",
    "            training_config['FEATURE_EXTRACTOR']['cls'].split('.')[-1], training_config['MODEL']['cls'].split('.')[-1])\n",
    "\n",
    "\n",
    "\n",
    "ds_name = 'devel'\n",
    "ds_name = 'test'\n",
    "\n",
    "measure_name = 'emo_sen_combined'\n",
    "measure_name = 'emo_UAR'\n",
    "\n",
    "res = []\n",
    "for exp in sorted(os.listdir(logs_root)):\n",
    "    csv_stats = pd.read_csv(os.path.join(logs_root, exp, 'logs', 'stats.csv'), sep=';')\n",
    "\n",
    "    best_model = csv_stats.iloc[csv_stats['{0}_{1}'.format(ds_name, measure_name)].idxmax()].to_dict()\n",
    "    with open(os.path.join(logs_root, exp, 'logs', 'source.log')) as file:\n",
    "        source_lines = [line.rstrip() for line in file]\n",
    "\n",
    "    exp_params = parse_config(''.join(source_lines[17:34]))\n",
    "    d_res = {'exp_name': exp, 'win_max_len': exp_params[0], 'win_shift': exp_params[1], 'feature_extractor': exp_params[2], 'model': exp_params[3]} | best_model\n",
    "    res.append(d_res)\n",
    "\n",
    "res_df = pd.DataFrame.from_dict(res)\n",
    "res_df.to_csv('MELD_xlstm_results.csv')"
   ]
  }
 ],
 "metadata": {
  "kernelspec": {
   "display_name": "Python 3 (ipykernel)",
   "language": "python",
   "name": "python3"
  },
  "language_info": {
   "codemirror_mode": {
    "name": "ipython",
    "version": 3
   },
   "file_extension": ".py",
   "mimetype": "text/x-python",
   "name": "python",
   "nbconvert_exporter": "python",
   "pygments_lexer": "ipython3",
   "version": "3.10.12"
  },
  "vscode": {
   "interpreter": {
    "hash": "8a601a5d7575395eaaa3aec0e8ad266ab092a0597c3bef17458ca1ed4c6169b3"
   }
  }
 },
 "nbformat": 4,
 "nbformat_minor": 5
}
